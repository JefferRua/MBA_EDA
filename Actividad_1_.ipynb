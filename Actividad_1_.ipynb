{
  "cells": [
    {
      "cell_type": "markdown",
      "metadata": {
        "id": "view-in-github",
        "colab_type": "text"
      },
      "source": [
        "<a href=\"https://colab.research.google.com/github/JefferRua/MBA_EDA/blob/main/Actividad_1_.ipynb\" target=\"_parent\"><img src=\"https://colab.research.google.com/assets/colab-badge.svg\" alt=\"Open In Colab\"/></a>"
      ]
    },
    {
      "cell_type": "markdown",
      "id": "c5b9559f",
      "metadata": {
        "id": "c5b9559f"
      },
      "source": [
        "### Analisis Exploratorio de Datos\n",
        "### Actividad 1: Exploración de un dataset\n",
        "### Jefferson Rua"
      ]
    },
    {
      "cell_type": "code",
      "execution_count": null,
      "id": "74ad3a27",
      "metadata": {
        "id": "74ad3a27"
      },
      "outputs": [],
      "source": [
        "import pandas as pd\n",
        "import numpy as np\n",
        "import matplotlib.pyplot as plt\n",
        "import seaborn as sns"
      ]
    },
    {
      "cell_type": "markdown",
      "id": "10eed2dd",
      "metadata": {
        "id": "10eed2dd"
      },
      "source": [
        "Los datos de la base “\"Venta Vehiculos 13-22.xlsx” corresponden a la venta mensual de automóviles en Bogotá, Cali, Envigado, Barranquilla, Bucaramanga y Medellín. El objetivo del análisis es identificar los meses en los que se registran mayores y menores ventas de automóviles e identificar si hay algún patrón. Los datos los recolecta ANDI & Fenalco, la base cuenta con las siguientes variables:\n",
        "\n",
        "**Año**: identifica el Año (2013 a 2022)\n",
        "\n",
        "**Mes**: identifica el Mes (enero a diciembre)\n",
        "\n",
        "**Bogotá**: número de automóviles vendidos por mes en Bogotá\n",
        "\n",
        "**Cali**: número de automóviles vendidos por mes en Cali\n",
        "\n",
        "**Envigado**: número de automóviles vendidos por mes en Envigado\n",
        "\n",
        "**Barranquilla**: número de automóviles vendidos por mes en Barranquilla\n",
        "\n",
        "**Bucaramanga**: número de automóviles vendidos por mes en Bucaramanga\n",
        "\n",
        "**Medellín**: número de automóviles vendidos por mes en Medellín\n",
        "\n",
        "\n",
        "A excepción de Mes que es una variable String todas las demás variables de la base son numéricas, la base cuenta con 120 filas y 8 columnas y ninguna tiene valores nulos.\n",
        "\n",
        "La pregunta **Smart** es: la pandemia afecto la venta de autos en las principales ciudades del País"
      ]
    },
    {
      "cell_type": "code",
      "execution_count": null,
      "id": "69f20cdb",
      "metadata": {
        "id": "69f20cdb",
        "outputId": "70198510-06f7-4ff4-988a-f15bf11fca9f"
      },
      "outputs": [
        {
          "data": {
            "text/html": [
              "<div>\n",
              "<style scoped>\n",
              "    .dataframe tbody tr th:only-of-type {\n",
              "        vertical-align: middle;\n",
              "    }\n",
              "\n",
              "    .dataframe tbody tr th {\n",
              "        vertical-align: top;\n",
              "    }\n",
              "\n",
              "    .dataframe thead th {\n",
              "        text-align: right;\n",
              "    }\n",
              "</style>\n",
              "<table border=\"1\" class=\"dataframe\">\n",
              "  <thead>\n",
              "    <tr style=\"text-align: right;\">\n",
              "      <th></th>\n",
              "      <th>AÑO</th>\n",
              "      <th>MES</th>\n",
              "      <th>BOGOTÁ</th>\n",
              "      <th>CALI</th>\n",
              "      <th>ENVIGADO</th>\n",
              "      <th>BARRANQUILLA</th>\n",
              "      <th>BUCARAMANGA</th>\n",
              "      <th>MEDELLÍN</th>\n",
              "    </tr>\n",
              "  </thead>\n",
              "  <tbody>\n",
              "    <tr>\n",
              "      <th>0</th>\n",
              "      <td>2013</td>\n",
              "      <td>Enero</td>\n",
              "      <td>7036</td>\n",
              "      <td>1372</td>\n",
              "      <td>984</td>\n",
              "      <td>737</td>\n",
              "      <td>650</td>\n",
              "      <td>721</td>\n",
              "    </tr>\n",
              "    <tr>\n",
              "      <th>1</th>\n",
              "      <td>2013</td>\n",
              "      <td>Febrero</td>\n",
              "      <td>7909</td>\n",
              "      <td>1687</td>\n",
              "      <td>1281</td>\n",
              "      <td>823</td>\n",
              "      <td>669</td>\n",
              "      <td>765</td>\n",
              "    </tr>\n",
              "    <tr>\n",
              "      <th>2</th>\n",
              "      <td>2013</td>\n",
              "      <td>Marzo</td>\n",
              "      <td>8237</td>\n",
              "      <td>1690</td>\n",
              "      <td>1227</td>\n",
              "      <td>950</td>\n",
              "      <td>582</td>\n",
              "      <td>759</td>\n",
              "    </tr>\n",
              "    <tr>\n",
              "      <th>3</th>\n",
              "      <td>2013</td>\n",
              "      <td>Abril</td>\n",
              "      <td>10341</td>\n",
              "      <td>1870</td>\n",
              "      <td>1519</td>\n",
              "      <td>1100</td>\n",
              "      <td>710</td>\n",
              "      <td>947</td>\n",
              "    </tr>\n",
              "    <tr>\n",
              "      <th>4</th>\n",
              "      <td>2013</td>\n",
              "      <td>Mayo</td>\n",
              "      <td>9425</td>\n",
              "      <td>1940</td>\n",
              "      <td>1451</td>\n",
              "      <td>1097</td>\n",
              "      <td>654</td>\n",
              "      <td>1005</td>\n",
              "    </tr>\n",
              "    <tr>\n",
              "      <th>...</th>\n",
              "      <td>...</td>\n",
              "      <td>...</td>\n",
              "      <td>...</td>\n",
              "      <td>...</td>\n",
              "      <td>...</td>\n",
              "      <td>...</td>\n",
              "      <td>...</td>\n",
              "      <td>...</td>\n",
              "    </tr>\n",
              "    <tr>\n",
              "      <th>115</th>\n",
              "      <td>2022</td>\n",
              "      <td>Agosto</td>\n",
              "      <td>4569</td>\n",
              "      <td>1685</td>\n",
              "      <td>1217</td>\n",
              "      <td>676</td>\n",
              "      <td>194</td>\n",
              "      <td>1906</td>\n",
              "    </tr>\n",
              "    <tr>\n",
              "      <th>116</th>\n",
              "      <td>2022</td>\n",
              "      <td>Septiembre</td>\n",
              "      <td>4389</td>\n",
              "      <td>1664</td>\n",
              "      <td>1191</td>\n",
              "      <td>674</td>\n",
              "      <td>197</td>\n",
              "      <td>1731</td>\n",
              "    </tr>\n",
              "    <tr>\n",
              "      <th>117</th>\n",
              "      <td>2022</td>\n",
              "      <td>Octubre</td>\n",
              "      <td>4176</td>\n",
              "      <td>1372</td>\n",
              "      <td>1068</td>\n",
              "      <td>592</td>\n",
              "      <td>198</td>\n",
              "      <td>1454</td>\n",
              "    </tr>\n",
              "    <tr>\n",
              "      <th>118</th>\n",
              "      <td>2022</td>\n",
              "      <td>Noviembre</td>\n",
              "      <td>3773</td>\n",
              "      <td>1436</td>\n",
              "      <td>1074</td>\n",
              "      <td>509</td>\n",
              "      <td>206</td>\n",
              "      <td>1518</td>\n",
              "    </tr>\n",
              "    <tr>\n",
              "      <th>119</th>\n",
              "      <td>2022</td>\n",
              "      <td>Diciembre</td>\n",
              "      <td>4111</td>\n",
              "      <td>1560</td>\n",
              "      <td>1095</td>\n",
              "      <td>565</td>\n",
              "      <td>172</td>\n",
              "      <td>1514</td>\n",
              "    </tr>\n",
              "  </tbody>\n",
              "</table>\n",
              "<p>120 rows × 8 columns</p>\n",
              "</div>"
            ],
            "text/plain": [
              "      AÑO         MES  BOGOTÁ  CALI  ENVIGADO  BARRANQUILLA  BUCARAMANGA  \\\n",
              "0    2013       Enero    7036  1372       984           737          650   \n",
              "1    2013     Febrero    7909  1687      1281           823          669   \n",
              "2    2013       Marzo    8237  1690      1227           950          582   \n",
              "3    2013       Abril   10341  1870      1519          1100          710   \n",
              "4    2013        Mayo    9425  1940      1451          1097          654   \n",
              "..    ...         ...     ...   ...       ...           ...          ...   \n",
              "115  2022      Agosto    4569  1685      1217           676          194   \n",
              "116  2022  Septiembre    4389  1664      1191           674          197   \n",
              "117  2022     Octubre    4176  1372      1068           592          198   \n",
              "118  2022   Noviembre    3773  1436      1074           509          206   \n",
              "119  2022   Diciembre    4111  1560      1095           565          172   \n",
              "\n",
              "     MEDELLÍN  \n",
              "0         721  \n",
              "1         765  \n",
              "2         759  \n",
              "3         947  \n",
              "4        1005  \n",
              "..        ...  \n",
              "115      1906  \n",
              "116      1731  \n",
              "117      1454  \n",
              "118      1518  \n",
              "119      1514  \n",
              "\n",
              "[120 rows x 8 columns]"
            ]
          },
          "execution_count": 2,
          "metadata": {},
          "output_type": "execute_result"
        }
      ],
      "source": [
        "####Cargando base de datos con todos los condicionales\n",
        "url=\"https://raw.githubusercontent.com/JefferRua/MBA_EDA/main/Venta%20Vehiculos%2013-22.csv\"\n",
        "df=pd.read_csv(url,encoding='latin-1',sep=\";\", thousands='.')\n",
        "df"
      ]
    },
    {
      "cell_type": "code",
      "execution_count": null,
      "id": "26188072",
      "metadata": {
        "id": "26188072",
        "outputId": "f5a80767-be36-4a93-829f-3a4eda4bb999"
      },
      "outputs": [
        {
          "name": "stdout",
          "output_type": "stream",
          "text": [
            "<class 'pandas.core.frame.DataFrame'>\n",
            "RangeIndex: 120 entries, 0 to 119\n",
            "Data columns (total 8 columns):\n",
            " #   Column        Non-Null Count  Dtype \n",
            "---  ------        --------------  ----- \n",
            " 0   AÑO           120 non-null    int64 \n",
            " 1   MES           120 non-null    object\n",
            " 2   BOGOTÁ        120 non-null    int64 \n",
            " 3   CALI          120 non-null    int64 \n",
            " 4   ENVIGADO      120 non-null    int64 \n",
            " 5   BARRANQUILLA  120 non-null    int64 \n",
            " 6   BUCARAMANGA   120 non-null    int64 \n",
            " 7   MEDELLÍN      120 non-null    int64 \n",
            "dtypes: int64(7), object(1)\n",
            "memory usage: 7.6+ KB\n"
          ]
        }
      ],
      "source": [
        "##Revisión de las variables numéricas\n",
        "df.info()"
      ]
    },
    {
      "cell_type": "code",
      "execution_count": null,
      "id": "4a2b8dfe",
      "metadata": {
        "id": "4a2b8dfe",
        "outputId": "5795cf0a-2f58-4d8e-fe18-d05849f697c0"
      },
      "outputs": [
        {
          "data": {
            "text/plain": [
              "AÑO              10\n",
              "MES              12\n",
              "BOGOTÁ          119\n",
              "CALI            111\n",
              "ENVIGADO        109\n",
              "BARRANQUILLA    110\n",
              "BUCARAMANGA     105\n",
              "MEDELLÍN        116\n",
              "dtype: int64"
            ]
          },
          "execution_count": 4,
          "metadata": {},
          "output_type": "execute_result"
        }
      ],
      "source": [
        "##Revisión de Valores unicos en cada Variable\n",
        "df.nunique()"
      ]
    },
    {
      "cell_type": "code",
      "execution_count": null,
      "id": "b9fa46fe",
      "metadata": {
        "id": "b9fa46fe",
        "outputId": "100048d7-0057-4c77-c777-5b58d2c483a1"
      },
      "outputs": [
        {
          "data": {
            "text/html": [
              "<div>\n",
              "<style scoped>\n",
              "    .dataframe tbody tr th:only-of-type {\n",
              "        vertical-align: middle;\n",
              "    }\n",
              "\n",
              "    .dataframe tbody tr th {\n",
              "        vertical-align: top;\n",
              "    }\n",
              "\n",
              "    .dataframe thead th {\n",
              "        text-align: right;\n",
              "    }\n",
              "</style>\n",
              "<table border=\"1\" class=\"dataframe\">\n",
              "  <thead>\n",
              "    <tr style=\"text-align: right;\">\n",
              "      <th></th>\n",
              "      <th>MES</th>\n",
              "    </tr>\n",
              "  </thead>\n",
              "  <tbody>\n",
              "    <tr>\n",
              "      <th>count</th>\n",
              "      <td>120</td>\n",
              "    </tr>\n",
              "    <tr>\n",
              "      <th>unique</th>\n",
              "      <td>12</td>\n",
              "    </tr>\n",
              "    <tr>\n",
              "      <th>top</th>\n",
              "      <td>Enero</td>\n",
              "    </tr>\n",
              "    <tr>\n",
              "      <th>freq</th>\n",
              "      <td>10</td>\n",
              "    </tr>\n",
              "  </tbody>\n",
              "</table>\n",
              "</div>"
            ],
            "text/plain": [
              "          MES\n",
              "count     120\n",
              "unique     12\n",
              "top     Enero\n",
              "freq       10"
            ]
          },
          "execution_count": 5,
          "metadata": {},
          "output_type": "execute_result"
        }
      ],
      "source": [
        "###Analisis de las variable no numércias, en este caso la variable MES\n",
        "df.describe(include = 'object')"
      ]
    },
    {
      "cell_type": "code",
      "execution_count": null,
      "id": "7ab656c9",
      "metadata": {
        "id": "7ab656c9",
        "outputId": "ced508a6-1071-416c-c110-00116d8f7d14"
      },
      "outputs": [
        {
          "data": {
            "text/plain": [
              "Enero         10\n",
              "Febrero       10\n",
              "Marzo         10\n",
              "Abril         10\n",
              "Mayo          10\n",
              "Junio         10\n",
              "Julio         10\n",
              "Agosto        10\n",
              "Septiembre    10\n",
              "Octubre       10\n",
              "Noviembre     10\n",
              "Diciembre     10\n",
              "Name: MES, dtype: int64"
            ]
          },
          "execution_count": 6,
          "metadata": {},
          "output_type": "execute_result"
        }
      ],
      "source": [
        "####Revisión de los valores de la variable object MES\n",
        "df['MES'].value_counts()"
      ]
    },
    {
      "cell_type": "code",
      "execution_count": null,
      "id": "94a5dd9f",
      "metadata": {
        "id": "94a5dd9f",
        "outputId": "52cdaffe-919b-4c93-e21b-4e52e7a4a408"
      },
      "outputs": [
        {
          "data": {
            "text/plain": [
              "AÑO             0\n",
              "MES             0\n",
              "BOGOTÁ          0\n",
              "CALI            0\n",
              "ENVIGADO        0\n",
              "BARRANQUILLA    0\n",
              "BUCARAMANGA     0\n",
              "MEDELLÍN        0\n",
              "dtype: int64"
            ]
          },
          "execution_count": 7,
          "metadata": {},
          "output_type": "execute_result"
        }
      ],
      "source": [
        "### Inspección de valores nulos de las variables de la base\n",
        "df.isnull().sum()"
      ]
    },
    {
      "cell_type": "code",
      "execution_count": null,
      "id": "c5697194",
      "metadata": {
        "id": "c5697194",
        "outputId": "4b565ec2-c2ed-4cf8-8dd9-7db78488369a"
      },
      "outputs": [
        {
          "name": "stdout",
          "output_type": "stream",
          "text": [
            "      AÑO         MES  BOGOTÁ  CALI  ENVIGADO  BARRANQUILLA  BUCARAMANGA  \\\n",
            "0    2013       Enero    7036  1372       984           737          650   \n",
            "1    2013     Febrero    7909  1687      1281           823          669   \n",
            "2    2013       Marzo    8237  1690      1227           950          582   \n",
            "3    2013       Abril   10341  1870      1519          1100          710   \n",
            "4    2013        Mayo    9425  1940      1451          1097          654   \n",
            "..    ...         ...     ...   ...       ...           ...          ...   \n",
            "115  2022      Agosto    4569  1685      1217           676          194   \n",
            "116  2022  Septiembre    4389  1664      1191           674          197   \n",
            "117  2022     Octubre    4176  1372      1068           592          198   \n",
            "118  2022   Noviembre    3773  1436      1074           509          206   \n",
            "119  2022   Diciembre    4111  1560      1095           565          172   \n",
            "\n",
            "     MEDELLÍN  mes_num  \n",
            "0         721        1  \n",
            "1         765        2  \n",
            "2         759        3  \n",
            "3         947        4  \n",
            "4        1005        5  \n",
            "..        ...      ...  \n",
            "115      1906        8  \n",
            "116      1731        9  \n",
            "117      1454       10  \n",
            "118      1518       11  \n",
            "119      1514       12  \n",
            "\n",
            "[120 rows x 9 columns]\n"
          ]
        }
      ],
      "source": [
        "####Convirtiendo la variable MES en variable numérica \n",
        "\n",
        "meses = {\n",
        "    'Enero': 1,\n",
        "    'Febrero': 2,\n",
        "    'Marzo': 3,\n",
        "    'Abril': 4,\n",
        "    'Mayo': 5,\n",
        "    'Junio': 6,\n",
        "    'Julio': 7,\n",
        "    'Agosto': 8,\n",
        "    'Septiembre': 9,\n",
        "    'Octubre': 10,\n",
        "    'Noviembre': 11,\n",
        "    'Diciembre': 12\n",
        "}\n",
        "\n",
        "df['mes_num'] = df['MES'].apply(lambda x: meses[x])\n",
        "\n",
        "print(df)"
      ]
    },
    {
      "cell_type": "code",
      "execution_count": null,
      "id": "19cad2e2",
      "metadata": {
        "id": "19cad2e2"
      },
      "outputs": [],
      "source": []
    },
    {
      "cell_type": "code",
      "execution_count": null,
      "id": "c35e5755",
      "metadata": {
        "id": "c35e5755",
        "outputId": "9a94d35e-41fc-4919-8724-baa1f681f44b"
      },
      "outputs": [
        {
          "data": {
            "text/html": [
              "<div>\n",
              "<style scoped>\n",
              "    .dataframe tbody tr th:only-of-type {\n",
              "        vertical-align: middle;\n",
              "    }\n",
              "\n",
              "    .dataframe tbody tr th {\n",
              "        vertical-align: top;\n",
              "    }\n",
              "\n",
              "    .dataframe thead th {\n",
              "        text-align: right;\n",
              "    }\n",
              "</style>\n",
              "<table border=\"1\" class=\"dataframe\">\n",
              "  <thead>\n",
              "    <tr style=\"text-align: right;\">\n",
              "      <th></th>\n",
              "      <th>count</th>\n",
              "      <th>mean</th>\n",
              "      <th>std</th>\n",
              "      <th>min</th>\n",
              "      <th>25%</th>\n",
              "      <th>50%</th>\n",
              "      <th>75%</th>\n",
              "      <th>max</th>\n",
              "    </tr>\n",
              "  </thead>\n",
              "  <tbody>\n",
              "    <tr>\n",
              "      <th>AÑO</th>\n",
              "      <td>120.0</td>\n",
              "      <td>2017.500000</td>\n",
              "      <td>2.884324</td>\n",
              "      <td>2013.0</td>\n",
              "      <td>2015.00</td>\n",
              "      <td>2017.5</td>\n",
              "      <td>2020.00</td>\n",
              "      <td>2022.0</td>\n",
              "    </tr>\n",
              "    <tr>\n",
              "      <th>BOGOTÁ</th>\n",
              "      <td>120.0</td>\n",
              "      <td>6726.875000</td>\n",
              "      <td>2403.881471</td>\n",
              "      <td>59.0</td>\n",
              "      <td>5210.50</td>\n",
              "      <td>6491.0</td>\n",
              "      <td>7991.00</td>\n",
              "      <td>16531.0</td>\n",
              "    </tr>\n",
              "    <tr>\n",
              "      <th>CALI</th>\n",
              "      <td>120.0</td>\n",
              "      <td>1863.050000</td>\n",
              "      <td>440.127423</td>\n",
              "      <td>0.0</td>\n",
              "      <td>1662.75</td>\n",
              "      <td>1905.0</td>\n",
              "      <td>2115.00</td>\n",
              "      <td>3128.0</td>\n",
              "    </tr>\n",
              "    <tr>\n",
              "      <th>ENVIGADO</th>\n",
              "      <td>120.0</td>\n",
              "      <td>1104.541667</td>\n",
              "      <td>267.122290</td>\n",
              "      <td>7.0</td>\n",
              "      <td>950.00</td>\n",
              "      <td>1086.5</td>\n",
              "      <td>1226.25</td>\n",
              "      <td>1939.0</td>\n",
              "    </tr>\n",
              "    <tr>\n",
              "      <th>BARRANQUILLA</th>\n",
              "      <td>120.0</td>\n",
              "      <td>801.941667</td>\n",
              "      <td>208.994041</td>\n",
              "      <td>0.0</td>\n",
              "      <td>672.00</td>\n",
              "      <td>788.5</td>\n",
              "      <td>951.25</td>\n",
              "      <td>1436.0</td>\n",
              "    </tr>\n",
              "    <tr>\n",
              "      <th>BUCARAMANGA</th>\n",
              "      <td>120.0</td>\n",
              "      <td>372.933333</td>\n",
              "      <td>206.746454</td>\n",
              "      <td>0.0</td>\n",
              "      <td>226.75</td>\n",
              "      <td>286.0</td>\n",
              "      <td>550.50</td>\n",
              "      <td>1052.0</td>\n",
              "    </tr>\n",
              "    <tr>\n",
              "      <th>MEDELLÍN</th>\n",
              "      <td>120.0</td>\n",
              "      <td>1375.750000</td>\n",
              "      <td>373.744852</td>\n",
              "      <td>0.0</td>\n",
              "      <td>1073.50</td>\n",
              "      <td>1442.0</td>\n",
              "      <td>1632.75</td>\n",
              "      <td>2383.0</td>\n",
              "    </tr>\n",
              "    <tr>\n",
              "      <th>mes_num</th>\n",
              "      <td>120.0</td>\n",
              "      <td>6.500000</td>\n",
              "      <td>3.466527</td>\n",
              "      <td>1.0</td>\n",
              "      <td>3.75</td>\n",
              "      <td>6.5</td>\n",
              "      <td>9.25</td>\n",
              "      <td>12.0</td>\n",
              "    </tr>\n",
              "  </tbody>\n",
              "</table>\n",
              "</div>"
            ],
            "text/plain": [
              "              count         mean          std     min      25%     50%  \\\n",
              "AÑO           120.0  2017.500000     2.884324  2013.0  2015.00  2017.5   \n",
              "BOGOTÁ        120.0  6726.875000  2403.881471    59.0  5210.50  6491.0   \n",
              "CALI          120.0  1863.050000   440.127423     0.0  1662.75  1905.0   \n",
              "ENVIGADO      120.0  1104.541667   267.122290     7.0   950.00  1086.5   \n",
              "BARRANQUILLA  120.0   801.941667   208.994041     0.0   672.00   788.5   \n",
              "BUCARAMANGA   120.0   372.933333   206.746454     0.0   226.75   286.0   \n",
              "MEDELLÍN      120.0  1375.750000   373.744852     0.0  1073.50  1442.0   \n",
              "mes_num       120.0     6.500000     3.466527     1.0     3.75     6.5   \n",
              "\n",
              "                  75%      max  \n",
              "AÑO           2020.00   2022.0  \n",
              "BOGOTÁ        7991.00  16531.0  \n",
              "CALI          2115.00   3128.0  \n",
              "ENVIGADO      1226.25   1939.0  \n",
              "BARRANQUILLA   951.25   1436.0  \n",
              "BUCARAMANGA    550.50   1052.0  \n",
              "MEDELLÍN      1632.75   2383.0  \n",
              "mes_num          9.25     12.0  "
            ]
          },
          "execution_count": 9,
          "metadata": {},
          "output_type": "execute_result"
        }
      ],
      "source": [
        "###Estadisiticas descriptivas básicas de las variables de la base\n",
        "df.describe().transpose()"
      ]
    },
    {
      "cell_type": "code",
      "execution_count": null,
      "id": "c25976ac",
      "metadata": {
        "id": "c25976ac",
        "outputId": "ea5f559f-5611-4d0e-be65-cd42b6cdcfa3"
      },
      "outputs": [
        {
          "data": {
            "text/html": [
              "<div>\n",
              "<style scoped>\n",
              "    .dataframe tbody tr th:only-of-type {\n",
              "        vertical-align: middle;\n",
              "    }\n",
              "\n",
              "    .dataframe tbody tr th {\n",
              "        vertical-align: top;\n",
              "    }\n",
              "\n",
              "    .dataframe thead th {\n",
              "        text-align: right;\n",
              "    }\n",
              "</style>\n",
              "<table border=\"1\" class=\"dataframe\">\n",
              "  <thead>\n",
              "    <tr style=\"text-align: right;\">\n",
              "      <th></th>\n",
              "      <th>AÑO</th>\n",
              "      <th>MES</th>\n",
              "      <th>mes_num</th>\n",
              "      <th>ciudad</th>\n",
              "      <th>ventas</th>\n",
              "    </tr>\n",
              "  </thead>\n",
              "  <tbody>\n",
              "    <tr>\n",
              "      <th>0</th>\n",
              "      <td>2013</td>\n",
              "      <td>Enero</td>\n",
              "      <td>1</td>\n",
              "      <td>BOGOTÁ</td>\n",
              "      <td>7036</td>\n",
              "    </tr>\n",
              "    <tr>\n",
              "      <th>1</th>\n",
              "      <td>2013</td>\n",
              "      <td>Febrero</td>\n",
              "      <td>2</td>\n",
              "      <td>BOGOTÁ</td>\n",
              "      <td>7909</td>\n",
              "    </tr>\n",
              "    <tr>\n",
              "      <th>2</th>\n",
              "      <td>2013</td>\n",
              "      <td>Marzo</td>\n",
              "      <td>3</td>\n",
              "      <td>BOGOTÁ</td>\n",
              "      <td>8237</td>\n",
              "    </tr>\n",
              "    <tr>\n",
              "      <th>3</th>\n",
              "      <td>2013</td>\n",
              "      <td>Abril</td>\n",
              "      <td>4</td>\n",
              "      <td>BOGOTÁ</td>\n",
              "      <td>10341</td>\n",
              "    </tr>\n",
              "    <tr>\n",
              "      <th>4</th>\n",
              "      <td>2013</td>\n",
              "      <td>Mayo</td>\n",
              "      <td>5</td>\n",
              "      <td>BOGOTÁ</td>\n",
              "      <td>9425</td>\n",
              "    </tr>\n",
              "    <tr>\n",
              "      <th>...</th>\n",
              "      <td>...</td>\n",
              "      <td>...</td>\n",
              "      <td>...</td>\n",
              "      <td>...</td>\n",
              "      <td>...</td>\n",
              "    </tr>\n",
              "    <tr>\n",
              "      <th>715</th>\n",
              "      <td>2022</td>\n",
              "      <td>Agosto</td>\n",
              "      <td>8</td>\n",
              "      <td>MEDELLÍN</td>\n",
              "      <td>1906</td>\n",
              "    </tr>\n",
              "    <tr>\n",
              "      <th>716</th>\n",
              "      <td>2022</td>\n",
              "      <td>Septiembre</td>\n",
              "      <td>9</td>\n",
              "      <td>MEDELLÍN</td>\n",
              "      <td>1731</td>\n",
              "    </tr>\n",
              "    <tr>\n",
              "      <th>717</th>\n",
              "      <td>2022</td>\n",
              "      <td>Octubre</td>\n",
              "      <td>10</td>\n",
              "      <td>MEDELLÍN</td>\n",
              "      <td>1454</td>\n",
              "    </tr>\n",
              "    <tr>\n",
              "      <th>718</th>\n",
              "      <td>2022</td>\n",
              "      <td>Noviembre</td>\n",
              "      <td>11</td>\n",
              "      <td>MEDELLÍN</td>\n",
              "      <td>1518</td>\n",
              "    </tr>\n",
              "    <tr>\n",
              "      <th>719</th>\n",
              "      <td>2022</td>\n",
              "      <td>Diciembre</td>\n",
              "      <td>12</td>\n",
              "      <td>MEDELLÍN</td>\n",
              "      <td>1514</td>\n",
              "    </tr>\n",
              "  </tbody>\n",
              "</table>\n",
              "<p>720 rows × 5 columns</p>\n",
              "</div>"
            ],
            "text/plain": [
              "      AÑO         MES  mes_num    ciudad  ventas\n",
              "0    2013       Enero        1    BOGOTÁ    7036\n",
              "1    2013     Febrero        2    BOGOTÁ    7909\n",
              "2    2013       Marzo        3    BOGOTÁ    8237\n",
              "3    2013       Abril        4    BOGOTÁ   10341\n",
              "4    2013        Mayo        5    BOGOTÁ    9425\n",
              "..    ...         ...      ...       ...     ...\n",
              "715  2022      Agosto        8  MEDELLÍN    1906\n",
              "716  2022  Septiembre        9  MEDELLÍN    1731\n",
              "717  2022     Octubre       10  MEDELLÍN    1454\n",
              "718  2022   Noviembre       11  MEDELLÍN    1518\n",
              "719  2022   Diciembre       12  MEDELLÍN    1514\n",
              "\n",
              "[720 rows x 5 columns]"
            ]
          },
          "execution_count": 10,
          "metadata": {},
          "output_type": "execute_result"
        }
      ],
      "source": [
        "###Transformación de la base de datos para facilitar el análisis estadístico 'combinado'\n",
        "##usando la función melt de pandas \n",
        "\n",
        "df2 = pd.melt(df, id_vars=['AÑO', 'MES','mes_num'], var_name='ciudad', value_name='ventas')\n",
        "df2"
      ]
    },
    {
      "cell_type": "code",
      "execution_count": null,
      "id": "affaf2cb",
      "metadata": {
        "id": "affaf2cb",
        "outputId": "8e74574a-ea28-4802-f8dc-cbaa781eae3b"
      },
      "outputs": [
        {
          "name": "stdout",
          "output_type": "stream",
          "text": [
            "<class 'pandas.core.frame.DataFrame'>\n",
            "RangeIndex: 720 entries, 0 to 719\n",
            "Data columns (total 5 columns):\n",
            " #   Column   Non-Null Count  Dtype \n",
            "---  ------   --------------  ----- \n",
            " 0   AÑO      720 non-null    int64 \n",
            " 1   MES      720 non-null    object\n",
            " 2   mes_num  720 non-null    int64 \n",
            " 3   ciudad   720 non-null    object\n",
            " 4   ventas   720 non-null    int64 \n",
            "dtypes: int64(3), object(2)\n",
            "memory usage: 28.2+ KB\n"
          ]
        }
      ],
      "source": [
        "df2.info()"
      ]
    },
    {
      "cell_type": "code",
      "execution_count": null,
      "id": "ab843a6c",
      "metadata": {
        "id": "ab843a6c",
        "outputId": "72ee50ef-3f7c-470f-adbf-290197ac13e6"
      },
      "outputs": [
        {
          "name": "stdout",
          "output_type": "stream",
          "text": [
            "ciudad   BARRANQUILLA  BOGOTÁ  BUCARAMANGA    CALI  ENVIGADO  MEDELLÍN\n",
            "mes_num                                                               \n",
            "1               679.2  5321.6        345.6  1507.7     934.0    1127.2\n",
            "2               700.6  6353.7        357.9  1737.3    1055.7    1298.4\n",
            "3               748.0  6523.4        342.3  1804.6    1081.2    1291.0\n",
            "4               715.6  6080.3        346.5  1604.0     995.5    1172.5\n",
            "5               797.2  6280.6        346.5  1716.9    1035.2    1316.3\n",
            "6               740.6  6121.4        321.6  1761.1     989.3    1260.8\n",
            "7               809.2  6597.9        373.1  1968.5    1128.6    1373.2\n",
            "8               817.9  6829.0        367.1  1910.0    1188.8    1426.6\n",
            "9               836.2  6926.3        427.6  1964.7    1184.2    1431.5\n",
            "10              848.3  6950.6        397.1  1992.2    1154.6    1457.9\n",
            "11              843.5  6976.7        381.0  2004.1    1122.6    1535.7\n",
            "12             1087.0  9761.0        468.9  2385.5    1384.8    1817.9\n"
          ]
        }
      ],
      "source": [
        "#Analisis Ventas promedio por mes \n",
        "ventas_mes = pd.pivot_table(df2, values='ventas', index='mes_num', columns='ciudad', aggfunc='mean')\n",
        "print(ventas_mes)"
      ]
    },
    {
      "cell_type": "code",
      "execution_count": null,
      "id": "bd5d33d6",
      "metadata": {
        "id": "bd5d33d6",
        "outputId": "a1320a1e-7740-4295-ea81-0d83b719c249"
      },
      "outputs": [
        {
          "name": "stdout",
          "output_type": "stream",
          "text": [
            "ciudad  BARRANQUILLA  BOGOTÁ  BUCARAMANGA   CALI  ENVIGADO  MEDELLÍN\n",
            "AÑO                                                                 \n",
            "2013           12177  113290         8364  22414     16805     10341\n",
            "2014           12165  119967         8475  26617     17647     12455\n",
            "2015           10883   93762         6550  26533     13579     14247\n",
            "2016            9055   85100         4616  25805     11766     17804\n",
            "2017            8801   80245         3365  24273     11331     19238\n",
            "2018            8854   83672         3518  23583     13510     19405\n",
            "2019           10335   76408         3245  23098     13207     20429\n",
            "2020            6812   47607         2141  15340      9716     14532\n",
            "2021            8976   57029         2369  17937     12442     17988\n",
            "2022            8175   50145         2109  17966     12542     18651\n"
          ]
        }
      ],
      "source": [
        "###Analisis ventas consoloidas anuales por ciudad \n",
        "ventas_año = pd.pivot_table(df2, values='ventas', index='AÑO', columns='ciudad', aggfunc='sum')\n",
        "print(ventas_año)"
      ]
    },
    {
      "cell_type": "code",
      "execution_count": null,
      "id": "13e04c37",
      "metadata": {
        "id": "13e04c37",
        "outputId": "3a7a7f13-e39b-4818-919b-e7d0bfb9db13"
      },
      "outputs": [
        {
          "data": {
            "text/plain": [
              "<AxesSubplot:xlabel='AÑO'>"
            ]
          },
          "execution_count": 51,
          "metadata": {},
          "output_type": "execute_result"
        },
        {
          "data": {
            "image/png": "[encoded data removed]",
            "text/plain": [
              "<Figure size 640x480 with 1 Axes>"
            ]
          },
          "metadata": {},
          "output_type": "display_data"
        }
      ],
      "source": [
        "ventas_año[\"BARRANQUILLA\"].plot(kind='bar')\n"
      ]
    },
    {
      "cell_type": "code",
      "execution_count": null,
      "id": "5037d064",
      "metadata": {
        "id": "5037d064",
        "outputId": "17b16771-2dea-42fe-d0f5-896fa38db817"
      },
      "outputs": [
        {
          "data": {
            "text/plain": [
              "<AxesSubplot:xlabel='AÑO'>"
            ]
          },
          "execution_count": 54,
          "metadata": {},
          "output_type": "execute_result"
        },
        {
          "data": {
            "image/png": "[encoded data removed]",
            "text/plain": [
              "<Figure size 640x480 with 1 Axes>"
            ]
          },
          "metadata": {},
          "output_type": "display_data"
        }
      ],
      "source": [
        "ventas_año[\"BOGOTÁ\"].plot(kind='bar')"
      ]
    },
    {
      "cell_type": "code",
      "execution_count": null,
      "id": "3f77ae6c",
      "metadata": {
        "id": "3f77ae6c",
        "outputId": "8166c8c4-e033-48a6-94d5-e45f8645b79b"
      },
      "outputs": [
        {
          "data": {
            "text/plain": [
              "<AxesSubplot:xlabel='AÑO'>"
            ]
          },
          "execution_count": 53,
          "metadata": {},
          "output_type": "execute_result"
        },
        {
          "data": {
            "image/png": "[encoded data removed]",
            "text/plain": [
              "<Figure size 640x480 with 1 Axes>"
            ]
          },
          "metadata": {},
          "output_type": "display_data"
        }
      ],
      "source": [
        "ventas_año[\"BUCARAMANGA\"].plot(kind='bar')"
      ]
    },
    {
      "cell_type": "code",
      "execution_count": null,
      "id": "eb38db92",
      "metadata": {
        "id": "eb38db92",
        "outputId": "21e2fa6c-84a1-4787-bfc5-6807e97555a1"
      },
      "outputs": [
        {
          "data": {
            "text/plain": [
              "<AxesSubplot:xlabel='AÑO'>"
            ]
          },
          "execution_count": 55,
          "metadata": {},
          "output_type": "execute_result"
        },
        {
          "data": {
            "image/png": "[encoded data removed]",
            "text/plain": [
              "<Figure size 640x480 with 1 Axes>"
            ]
          },
          "metadata": {},
          "output_type": "display_data"
        }
      ],
      "source": [
        "ventas_año[\"CALI\"].plot(kind='bar') "
      ]
    },
    {
      "cell_type": "code",
      "execution_count": null,
      "id": "d47c7032",
      "metadata": {
        "id": "d47c7032",
        "outputId": "5aa2a06d-3ab9-4a55-bfb6-8f717a7cba0b"
      },
      "outputs": [
        {
          "data": {
            "text/plain": [
              "<AxesSubplot:xlabel='AÑO'>"
            ]
          },
          "execution_count": 56,
          "metadata": {},
          "output_type": "execute_result"
        },
        {
          "data": {
            "image/png": "[encoded data removed]",
            "text/plain": [
              "<Figure size 640x480 with 1 Axes>"
            ]
          },
          "metadata": {},
          "output_type": "display_data"
        }
      ],
      "source": [
        "ventas_año[\"ENVIGADO\"].plot(kind='bar') "
      ]
    },
    {
      "cell_type": "code",
      "execution_count": null,
      "id": "95b73d39",
      "metadata": {
        "id": "95b73d39",
        "outputId": "7d1c849e-089b-46ee-d318-531ed927e78d"
      },
      "outputs": [
        {
          "data": {
            "text/plain": [
              "<AxesSubplot:xlabel='AÑO'>"
            ]
          },
          "execution_count": 57,
          "metadata": {},
          "output_type": "execute_result"
        },
        {
          "data": {
            "image/png": "[encoded data removed]",
            "text/plain": [
              "<Figure size 640x480 with 1 Axes>"
            ]
          },
          "metadata": {},
          "output_type": "display_data"
        }
      ],
      "source": [
        "ventas_año[\"MEDELLÍN\"].plot(kind='bar')"
      ]
    },
    {
      "cell_type": "code",
      "execution_count": null,
      "id": "8c4b9a8b",
      "metadata": {
        "id": "8c4b9a8b",
        "outputId": "3ee162c8-4823-4dfe-aeb8-233e680a703a"
      },
      "outputs": [
        {
          "data": {
            "image/png": "[encoded data removed]",
            "text/plain": [
              "<Figure size 640x480 with 1 Axes>"
            ]
          },
          "metadata": {},
          "output_type": "display_data"
        }
      ],
      "source": [
        "ventas_año.plot(kind='bar')\n",
        "plt.show()"
      ]
    },
    {
      "cell_type": "code",
      "execution_count": null,
      "id": "b1a7cd92",
      "metadata": {
        "id": "b1a7cd92",
        "outputId": "70907602-31d5-4a4c-d8d8-f7f6d50fb534"
      },
      "outputs": [
        {
          "data": {
            "image/png": "[encoded data removed]",
            "text/plain": [
              "<Figure size 640x480 with 1 Axes>"
            ]
          },
          "metadata": {},
          "output_type": "display_data"
        }
      ],
      "source": [
        "ventas_mes.plot(kind='bar')\n",
        "plt.show()"
      ]
    },
    {
      "cell_type": "code",
      "execution_count": null,
      "id": "87981f6a",
      "metadata": {
        "id": "87981f6a"
      },
      "outputs": [],
      "source": []
    }
  ],
  "metadata": {
    "kernelspec": {
      "display_name": "Python 3 (ipykernel)",
      "language": "python",
      "name": "python3"
    },
    "language_info": {
      "codemirror_mode": {
        "name": "ipython",
        "version": 3
      },
      "file_extension": ".py",
      "mimetype": "text/x-python",
      "name": "python",
      "nbconvert_exporter": "python",
      "pygments_lexer": "ipython3",
      "version": "3.9.13"
    },
    "colab": {
      "provenance": [],
      "include_colab_link": true
    }
  },
  "nbformat": 4,
  "nbformat_minor": 5
}